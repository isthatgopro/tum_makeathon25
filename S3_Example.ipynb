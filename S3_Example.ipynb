{
 "cells": [
  {
   "cell_type": "markdown",
   "id": "5e5243ec-d2fa-4879-b50b-e7681fb6e6cd",
   "metadata": {},
   "source": [
    "## How to upload files and downlaod files from S3?"
   ]
  },
  {
   "cell_type": "code",
   "execution_count": null,
   "id": "19d5e3cf-2d5b-4f3e-ad97-dd87c1d9f66d",
   "metadata": {},
   "outputs": [],
   "source": [
    "import pandas as pd\n",
    "import boto3"
   ]
  },
  {
   "cell_type": "code",
   "execution_count": null,
   "id": "e57e6566-b999-4c6a-ab26-7e632f634c4b",
   "metadata": {},
   "outputs": [],
   "source": [
    "bucket_name = 'tumai.makeathon2025'\n",
    "# Make sure you set your group name correctly! e.g. \"Group42/\", \"Group03/\"\n",
    "prefix = \"GroupXX/\""
   ]
  },
  {
   "cell_type": "code",
   "execution_count": null,
   "id": "f7da53cd-9977-4359-95a3-c76ba0662f99",
   "metadata": {},
   "outputs": [],
   "source": [
    "# 1. Create dummy data to save to s3 and read from it\n",
    "data = {\n",
    "    'name': ['Alice', 'Bob', 'Charlie'],\n",
    "    'age': [25, 30, 35],\n",
    "    'email': ['alice@example.com', 'bob@example.com', 'charlie@example.com']\n",
    "}\n",
    "df = pd.DataFrame(data)"
   ]
  },
  {
   "cell_type": "code",
   "execution_count": null,
   "id": "b8a211af-d2d7-48e8-818f-face8b266021",
   "metadata": {},
   "outputs": [],
   "source": [
    "# 2. Store file locally\n",
    "local_file_path = \"dummy_data.csv\"\n",
    "df.to_csv(local_file_path, index=False)\n",
    "print(f\"CSV saved locally at: {local_file_path}\")"
   ]
  },
  {
   "cell_type": "code",
   "execution_count": null,
   "id": "945cb591-39fb-40fa-83ae-a7aafa727b0c",
   "metadata": {},
   "outputs": [],
   "source": [
    "# 3. Upload to S3\n",
    "s3_key = prefix + \"dummy_data.csv\"\n",
    "s3 = boto3.client('s3')\n",
    "s3.upload_file(Filename=local_file_path, Bucket=bucket_name, Key=s3_key)\n",
    "print(f\"CSV uploaded to s3://{bucket_name}/{s3_key}\")"
   ]
  },
  {
   "cell_type": "code",
   "execution_count": null,
   "id": "bbd9411b-cc81-4293-b825-152ff11644e8",
   "metadata": {},
   "outputs": [],
   "source": [
    "# Alternatively store data directly to S3\n",
    "full_s3_path = f\"s3://{bucket_name}/{prefix}another_file.csv\"\n",
    "df.to_csv(full_s3_path, index=False)"
   ]
  },
  {
   "cell_type": "code",
   "execution_count": null,
   "id": "ecea041e-7bcd-4a9b-b126-7dfbfa0ac728",
   "metadata": {},
   "outputs": [],
   "source": [
    "# List the content of your folder (prefix)\n",
    "s3 = boto3.client('s3')\n",
    "folder = s3.list_objects_v2(Bucket=bucket_name, Prefix=prefix, MaxKeys=100)['Contents']\n",
    "for file in folder:\n",
    "    print(file[\"Key\"])"
   ]
  },
  {
   "cell_type": "code",
   "execution_count": null,
   "id": "bb93ae2c-c031-46de-84cb-4b8526259287",
   "metadata": {},
   "outputs": [],
   "source": [
    "# Download a file and store it locally\n",
    "downloaded_file_path = 'downloaded_dummy_data.csv'\n",
    "s3.download_file(Filename=downloaded_file_path, Bucket=bucket_name, Key=s3_key)"
   ]
  }
 ],
 "metadata": {
  "kernelspec": {
   "display_name": "conda_pytorch_p310",
   "language": "python",
   "name": "conda_pytorch_p310"
  },
  "language_info": {
   "codemirror_mode": {
    "name": "ipython",
    "version": 3
   },
   "file_extension": ".py",
   "mimetype": "text/x-python",
   "name": "python",
   "nbconvert_exporter": "python",
   "pygments_lexer": "ipython3",
   "version": "3.10.14"
  }
 },
 "nbformat": 4,
 "nbformat_minor": 5
}
