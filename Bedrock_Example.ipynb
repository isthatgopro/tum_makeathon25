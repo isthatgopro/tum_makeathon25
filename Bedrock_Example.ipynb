{
 "cells": [
  {
   "cell_type": "markdown",
   "id": "475fcad1-d9a5-4282-a53a-bd775c0d25e3",
   "metadata": {},
   "source": [
    "## How to invoke a FM from Bedrock using the boto3 client?"
   ]
  },
  {
   "cell_type": "code",
   "execution_count": null,
   "id": "16afb2e4-050c-458a-9a95-a6fce020250e",
   "metadata": {},
   "outputs": [],
   "source": [
    "import logging\n",
    "import json\n",
    "import boto3\n",
    "\n",
    "# Create an Amazon Bedrock Runtime client.\n",
    "brt = boto3.client(\"bedrock-runtime\")\n",
    "\n",
    "# Set the model ID, e.g., Anthropic Clause 3.5 Sonnet.\n",
    "model_id = \"anthropic.claude-3-5-sonnet-20240620-v1:0\"\n",
    "\n",
    "# Start a conversation with the user message.\n",
    "user_message = \"Describe the purpose of a 'hello world' program in one line.\"\n",
    "conversation = [\n",
    "    {\n",
    "        \"role\": \"user\",\n",
    "        \"content\": [{\"text\": user_message}],\n",
    "    }\n",
    "]\n",
    "\n",
    "# Send the message to the model, using a basic inference configuration.\n",
    "response = brt.converse(\n",
    "    modelId=model_id,\n",
    "    messages=conversation,\n",
    "    inferenceConfig={\"maxTokens\": 512, \"temperature\": 0.5, \"topP\": 0.9},\n",
    ")\n",
    "\n",
    "# Extract and print the response text.\n",
    "response_text = response[\"output\"][\"message\"][\"content\"][0][\"text\"]\n",
    "print(\"Model Response:\", response_text)"
   ]
  },
  {
   "cell_type": "markdown",
   "id": "e159c54e-faae-48c5-898c-ceb6ac7377f8",
   "metadata": {},
   "source": [
    "## How to invoke a FM from Bedrock using Langchain?"
   ]
  },
  {
   "cell_type": "code",
   "execution_count": null,
   "id": "4804fa3f-fb63-4114-970a-08c7d28baa43",
   "metadata": {},
   "outputs": [],
   "source": [
    "!pip install langchain_aws"
   ]
  },
  {
   "cell_type": "code",
   "execution_count": null,
   "id": "8b87805f-768b-4df5-81c7-189b7ecfb273",
   "metadata": {
    "scrolled": true
   },
   "outputs": [],
   "source": [
    "import boto3\n",
    "from langchain_aws.chat_models import ChatBedrock\n",
    "\n",
    "brt = boto3.client(\"bedrock-runtime\")\n",
    "\n",
    "chat_model = ChatBedrock(\n",
    "        model_id=\"anthropic.claude-3-5-sonnet-20240620-v1:0\",\n",
    "        client=brt,\n",
    "        model_kwargs={\"temperature\": 0, \"top_k\": 1},\n",
    "    )\n",
    "\n",
    "response_text = chat_model.invoke(\"Describe the purpose of a 'hello world' program in one line.\").content\n",
    "print(\"Model Response:\", response_text)"
   ]
  }
 ],
 "metadata": {
  "kernelspec": {
   "display_name": "conda_pytorch_p310",
   "language": "python",
   "name": "conda_pytorch_p310"
  },
  "language_info": {
   "codemirror_mode": {
    "name": "ipython",
    "version": 3
   },
   "file_extension": ".py",
   "mimetype": "text/x-python",
   "name": "python",
   "nbconvert_exporter": "python",
   "pygments_lexer": "ipython3",
   "version": "3.10.14"
  }
 },
 "nbformat": 4,
 "nbformat_minor": 5
}
